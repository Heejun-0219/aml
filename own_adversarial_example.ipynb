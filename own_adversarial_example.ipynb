{
 "cells": [
  {
   "cell_type": "code",
   "execution_count": 51,
   "metadata": {},
   "outputs": [],
   "source": [
    "from Simple_Adversarial_Examples.network import network\n",
    "import Simple_Adversarial_Examples.network.mnist_loader as mnist_loader\n",
    "import pickle\n",
    "import matplotlib.pyplot as plt\n",
    "import numpy as np"
   ]
  },
  {
   "cell_type": "code",
   "execution_count": 53,
   "metadata": {},
   "outputs": [
    {
     "ename": "ModuleNotFoundError",
     "evalue": "No module named 'network.network'; 'network' is not a package",
     "output_type": "error",
     "traceback": [
      "\u001b[0;31m---------------------------------------------------------------------------\u001b[0m",
      "\u001b[0;31mModuleNotFoundError\u001b[0m                       Traceback (most recent call last)",
      "Cell \u001b[0;32mIn[53], line 2\u001b[0m\n\u001b[1;32m      1\u001b[0m \u001b[38;5;28;01mwith\u001b[39;00m \u001b[38;5;28mopen\u001b[39m(\u001b[38;5;124m'\u001b[39m\u001b[38;5;124mSimple_Adversarial_Examples/network/trained_network.pkl\u001b[39m\u001b[38;5;124m'\u001b[39m, \u001b[38;5;124m'\u001b[39m\u001b[38;5;124mrb\u001b[39m\u001b[38;5;124m'\u001b[39m) \u001b[38;5;28;01mas\u001b[39;00m f:  \n\u001b[0;32m----> 2\u001b[0m     net \u001b[38;5;241m=\u001b[39m \u001b[43mpickle\u001b[49m\u001b[38;5;241;43m.\u001b[39;49m\u001b[43mload\u001b[49m\u001b[43m(\u001b[49m\u001b[43mf\u001b[49m\u001b[43m)\u001b[49m  \n\u001b[1;32m      4\u001b[0m training_data, validation_data, test_data \u001b[38;5;241m=\u001b[39m mnist_loader\u001b[38;5;241m.\u001b[39mload_data_wrapper()\n",
      "\u001b[0;31mModuleNotFoundError\u001b[0m: No module named 'network.network'; 'network' is not a package"
     ]
    }
   ],
   "source": [
    "with open('Simple_Adversarial_Examples/network/trained_network.pkl', 'rb') as f:  \n",
    "    net = pickle.load(f)  \n",
    "    \n",
    "training_data, validation_data, test_data = mnist_loader.load_data_wrapper()\n"
   ]
  },
  {
   "cell_type": "code",
   "execution_count": null,
   "metadata": {},
   "outputs": [],
   "source": [
    "def predict(n):\n",
    "    # Get the data from the test set\n",
    "    x = test_data[n][0]\n",
    "    # Get output of network and prediction\n",
    "    activations = net.feedforward(x)\n",
    "    prediction = np.argmax(activations)\n",
    "    # Print the prediction of the network\n",
    "    print('Network output: ')\n",
    "    print(activations)\n",
    "    print('Network prediction: ')\n",
    "    print(prediction)\n",
    "    print('Actual image: ')\n",
    "    \n",
    "    # Draw the image\n",
    "    plt.imshow(x.reshape((28,28)), cmap='Greys')"
   ]
  },
  {
   "cell_type": "code",
   "execution_count": null,
   "metadata": {},
   "outputs": [],
   "source": [
    "def adversarial(net, n, steps, eta):\n",
    "    \"\"\"\n",
    "    net : network object\n",
    "        neural network instance to use\n",
    "    n : integer\n",
    "        our goal label (just an int, the function transforms it into a one-hot vector)\n",
    "    steps : integer\n",
    "        number of steps for gradient descent\n",
    "    eta : integer\n",
    "        step size for gradient descent\n",
    "    \"\"\"\n",
    "    # Set the goal output\n",
    "    goal = np.zeros((10, 1))\n",
    "    goal[n] = 1\n",
    "    # Create a random image to initialize gradient descent with\n",
    "    x = np.random.normal(.5, .3, (784, 1))\n",
    "    # Gradient descent on the input\n",
    "    for i in range(steps):\n",
    "        # Calculate the derivative\n",
    "        d = input_derivative(net,x,goal)\n",
    "        \n",
    "        # The GD update on x\n",
    "        x -= eta * d\n",
    "    return x\n"
   ]
  },
  {
   "cell_type": "code",
   "execution_count": null,
   "metadata": {},
   "outputs": [],
   "source": [
    "def sneaky_adversarial(net, n, x_target, steps, eta, lam=.05):\n",
    "    \"\"\"\n",
    "    net : network object\n",
    "        neural network instance to use\n",
    "    n : integer\n",
    "        our goal label (just an int, the function transforms it into a one-hot vector)\n",
    "    x_target : numpy vector\n",
    "        our goal image for the adversarial example\n",
    "    steps : integer\n",
    "        number of steps for gradient descent\n",
    "    eta : integer\n",
    "        step size for gradient descent\n",
    "    lam : float\n",
    "        lambda, our regularization parameter. Default is .05\n",
    "    \"\"\"\n",
    "    \n",
    "    # Set the goal output\n",
    "    goal = np.zeros((10, 1))\n",
    "    goal[n] = 1\n",
    "    # Create a random image to initialize gradient descent with\n",
    "    x = np.random.normal(.5, .3, (784, 1))\n",
    "    # Gradient descent on the input\n",
    "    for i in range(steps):\n",
    "        # Calculate the derivative\n",
    "        d = input_derivative(net,x,goal)\n",
    "        \n",
    "        # The GD update on x, with an added penalty \n",
    "        # to the cost function\n",
    "        # ONLY CHANGE IS RIGHT HERE!!!\n",
    "        x -= eta * (d + lam * (x - x_target))\n",
    "    return x"
   ]
  },
  {
   "cell_type": "code",
   "execution_count": null,
   "metadata": {},
   "outputs": [],
   "source": [
    "def binary_thresholding(n, m):\n",
    "    \"\"\"\n",
    "    n: int 0-9, the target number to match\n",
    "    m: index of example image to use (from the test set)\n",
    "    \"\"\"\n",
    "    \n",
    "    # Generate adversarial example\n",
    "    x = sneaky_generate(n, m)\n",
    "# Binarize image\n",
    "    x = (x > .5).astype(float)\n",
    "    \n",
    "    print(\"With binary thresholding: \")\n",
    "    \n",
    "    plt.imshow(x.reshape(28,28), cmap=\"Greys\")\n",
    "    plt.show()\n",
    "# Get binarized output and prediction\n",
    "    binary_activations = net.feedforward(x)\n",
    "    binary_prediction = np.argmax(net.feedforward(x))\n",
    "    \n",
    "    print(\"Prediction with binary thresholding: \")\n",
    "    print(binary_prediction)\n",
    "    \n",
    "    print(\"Network output: \")\n",
    "    print(binary_activations)"
   ]
  }
 ],
 "metadata": {
  "kernelspec": {
   "display_name": "aml",
   "language": "python",
   "name": "python3"
  },
  "language_info": {
   "codemirror_mode": {
    "name": "ipython",
    "version": 3
   },
   "file_extension": ".py",
   "mimetype": "text/x-python",
   "name": "python",
   "nbconvert_exporter": "python",
   "pygments_lexer": "ipython3",
   "version": "3.11.9"
  }
 },
 "nbformat": 4,
 "nbformat_minor": 2
}
